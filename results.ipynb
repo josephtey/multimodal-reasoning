{
 "cells": [
  {
   "cell_type": "code",
   "execution_count": 2,
   "metadata": {},
   "outputs": [
    {
     "name": "stdout",
     "output_type": "stream",
     "text": [
      "File processed: results/files/results_geometry_3k_baseline_direct_20240521_092635.json\n",
      "Accuracy: 23.29%\n",
      "Total items: 601\n",
      "Correct/Total: 140/601\n",
      "File processed: results/files/results_geometry_3k_baseline_cot_20240523_004840.json\n",
      "Accuracy: 21.80%\n",
      "Total items: 601\n",
      "Correct/Total: 131/601\n",
      "File processed: results/files/results_geometry_3k_finetuned_20240521_102206.json\n",
      "Accuracy: 27.62%\n",
      "Total items: 601\n",
      "Correct/Total: 166/601\n",
      "File processed: results/files/results_geometry_3k_finetuned_20240523_162428.json\n",
      "Accuracy: 28.45%\n",
      "Total items: 601\n",
      "Correct/Total: 171/601\n",
      "File processed: results/files/results_geometry_3k_baseline_cot_gpto_20240525_161954.json\n",
      "Accuracy: 55.91%\n",
      "Total items: 601\n",
      "Correct/Total: 336/601\n",
      "File processed: results/files/results_geometry_3k_TinyLLaVA-3.1B-lora-2_20240526_143150.json\n",
      "Accuracy: 28.79%\n",
      "Total items: 601\n",
      "Correct/Total: 173/601\n",
      "File processed: results/files/results_geometry_3k_TinyLLaVA-3.1B-lora-filtered_20240526_144158.json\n",
      "Accuracy: 22.63%\n",
      "Total items: 601\n",
      "Correct/Total: 136/601\n",
      "File processed: results/files/results_geometry_3k_TinyLLaVA-3.1B-lora-peano_20240526_151844.json\n",
      "Accuracy: 24.63%\n",
      "Total items: 601\n",
      "Correct/Total: 148/601\n"
     ]
    }
   ],
   "source": [
    "import os\n",
    "\n",
    "# List of files to process\n",
    "files_to_process = [\n",
    "    'results/files/results_geometry_3k_baseline_direct_20240521_092635.json',\n",
    "    'results/files/results_geometry_3k_baseline_cot_20240523_004840.json',\n",
    "    'results/files/results_geometry_3k_finetuned_20240521_102206.json',\n",
    "    'results/files/results_geometry_3k_finetuned_20240523_162428.json', # 2,100 training samples\n",
    "    \"results/files/results_geometry_3k_baseline_cot_gpto_20240525_161954.json\",\n",
    "    \"results/files/results_geometry_3k_TinyLLaVA-3.1B-lora-2_20240526_143150.json\",\n",
    "    \"results/files/results_geometry_3k_TinyLLaVA-3.1B-lora-filtered_20240526_144158.json\",\n",
    "    \"results/files/results_geometry_3k_TinyLLaVA-3.1B-lora-peano_20240526_151844.json\"\n",
    "]\n",
    "\n",
    "# Run the results.py script for each file\n",
    "for file in files_to_process:\n",
    "    os.system(f'python results/results.py --file \"{file}\" --key \"extracted_answer\"')\n"
   ]
  },
  {
   "cell_type": "code",
   "execution_count": 3,
   "metadata": {},
   "outputs": [],
   "source": [
    "import json\n",
    "\n",
    "# Load the JSON data from the files\n",
    "with open('results/files/results_geometry_3k_baseline_cot_20240523_004840.json', 'r') as file1, \\\n",
    "     open('results/files/results_geometry_3k_baseline_direct_20240521_092635.json', 'r') as file2, \\\n",
    "     open('results/files/results_geometry_3k_finetuned_20240523_162428.json', 'r') as file3, \\\n",
    "     open('results/files/results_geometry_3k_baseline_cot_gpto_20240525_161954.json', 'r') as file4:\n",
    "    results_geometry_3k_baseline_cot = json.load(file1)\n",
    "    results_geometry_3k_baseline_direct = json.load(file2)\n",
    "    results_geometry_3k_finetuned = json.load(file3)\n",
    "    results_geometry_3k_baseline_cot_gpto = json.load(file4)\n"
   ]
  },
  {
   "cell_type": "code",
   "execution_count": 4,
   "metadata": {},
   "outputs": [],
   "source": [
    "import csv\n",
    "\n",
    "# Use the loaded JSON data from the previous cells\n",
    "data = {\n",
    "    \"baseline_direct\": results_geometry_3k_baseline_direct,\n",
    "    \"baseline_cot\": results_geometry_3k_baseline_cot,\n",
    "    \"finetuned\": results_geometry_3k_finetuned,\n",
    "    \"gpto\": results_geometry_3k_baseline_cot_gpto\n",
    "}\n",
    "\n",
    "# Determine the number of questions\n",
    "num_questions = len(data[\"baseline_direct\"])\n",
    "\n",
    "# Create the CSV file\n",
    "with open('results_comparison.csv', 'w', newline='') as csvfile:\n",
    "    csvwriter = csv.writer(csvfile)\n",
    "    # Write the header\n",
    "    csvwriter.writerow(['question number', 'baseline direct', 'baseline cot', 'finetuned', 'gpto', 'problem_type_goal', 'problem_type_graph'])\n",
    "    \n",
    "    # Write the data rows\n",
    "    for i in range(num_questions):\n",
    "        row = [i + 1]  # question number\n",
    "        for key in [\"baseline_direct\", \"baseline_cot\", \"finetuned\", \"gpto\"]:\n",
    "            extracted_answer = data[key][i].get(\"extracted_answer\")\n",
    "            correct_answer = data[key][i].get(\"answer\")\n",
    "            if extracted_answer == correct_answer:\n",
    "                row.append(extracted_answer)\n",
    "            else:\n",
    "                row.append(\"\")\n",
    "        # Add problem_type_goal and problem_type_graph to the row\n",
    "        problem_type_goal = data[\"baseline_direct\"][i].get(\"problem_type_goal\", [])\n",
    "        problem_type_graph = data[\"baseline_direct\"][i].get(\"problem_type_graph\", [])\n",
    "        row.append(\", \".join(problem_type_goal))\n",
    "        row.append(\", \".join(problem_type_graph))\n",
    "        csvwriter.writerow(row)\n"
   ]
  },
  {
   "cell_type": "code",
   "execution_count": 5,
   "metadata": {},
   "outputs": [],
   "source": [
    "def display_prediction(number, data, show_details=True):\n",
    "    if 0 <= number < len(data):\n",
    "        entry = data[number]\n",
    "        \n",
    "        if show_details:\n",
    "            # Display the question\n",
    "            print(f\"Question: {entry['problem_text']}\")\n",
    "            # Display the choices\n",
    "            choices = entry.get('choices', [])\n",
    "            if choices:\n",
    "                print(\"Choices:\")\n",
    "                for idx, choice in enumerate(choices, start=1):\n",
    "                    print(f\"{idx}. {choice}\")\n",
    "            else:\n",
    "                print(\"No choices available.\")\n",
    "            \n",
    "            # Display the image\n",
    "            from IPython.display import Image, display\n",
    "            image_path = f\"dataset/eval/geometry_3k/images/{entry['image_id']}.png\"\n",
    "            display(Image(filename=image_path, width=400))\n",
    "        \n",
    "        # Display the predicted answer\n",
    "        print(f\"Predicted Answer: {entry['predicted_answer']}\")\n",
    "        \n",
    "        from IPython.display import display, HTML\n",
    "        display(HTML(f\"<span style='color: green;'>Predicted Extracted Answer: {entry['extracted_answer']}</span>\"))\n",
    "        display(HTML(f\"<span style='color: red; font-weight: bold;'>Correct Answer: {entry['answer']}</span>\"))\n",
    "    else:\n",
    "        print(f\"Invalid number: {number}. It should be between 0 and {len(data) - 1}.\")\n"
   ]
  },
  {
   "cell_type": "code",
   "execution_count": 6,
   "metadata": {
    "scrolled": true
   },
   "outputs": [
    {
     "name": "stdout",
     "output_type": "stream",
     "text": [
      "Displaying predictions for question 41 across all datasets:\n",
      "\n",
      "Dataset: results_geometry_3k_baseline_direct\n",
      "Question: Find x.\n",
      "Choices:\n",
      "1. 60\n",
      "2. 80\n",
      "3. 90\n",
      "4. 120\n"
     ]
    },
    {
     "data": {
      "image/png": "[encoded data removed]",
      "text/plain": [
       "<IPython.core.display.Image object>"
      ]
     },
     "metadata": {
      "image/png": {
       "width": 400
      }
     },
     "output_type": "display_data"
    },
    {
     "name": "stdout",
     "output_type": "stream",
     "text": [
      "Predicted Answer: The image presents a mathematical problem involving a cross-shaped graph with four intersecting lines. Each line is labeled with a number, and the numbers are arranged in a specific pattern. The numbers are 0, 60, 80, and 120. The task is to find the value of x that satisfies the equation x = 60. This equation is derived from the intersection of the lines labeled with the numbers 0 and 60. The graph is set against a white background, and the lines are colored blue. The image does not provide any additional context or information about the problem, so the solution is based solely on the given equation.\n"
     ]
    },
    {
     "data": {
      "text/html": [
       "<span style='color: green;'>Predicted Extracted Answer: A</span>"
      ],
      "text/plain": [
       "<IPython.core.display.HTML object>"
      ]
     },
     "metadata": {},
     "output_type": "display_data"
    },
    {
     "data": {
      "text/html": [
       "<span style='color: red; font-weight: bold;'>Correct Answer: C</span>"
      ],
      "text/plain": [
       "<IPython.core.display.HTML object>"
      ]
     },
     "metadata": {},
     "output_type": "display_data"
    },
    {
     "name": "stdout",
     "output_type": "stream",
     "text": [
      "\n",
      "Dataset: results_geometry_3k_baseline_cot\n",
      "Predicted Answer: The image presents a mathematical problem involving a cross-shaped graph with four intersecting lines. Each line is labeled with the letter \"x\" and the number \"0\". The lines are arranged in a cross shape, with one line at the top and bottom, and two lines at the sides. The lines are all blue and extend from the center of the image.\n",
      "\n",
      "The problem asks to find the value of \"x\". To solve this problem, we need to understand the relationship between the lines and the numbers. Since each line is labeled with the number \"0\", it means that the value of \"x\" at the intersection of these lines is 0.\n",
      "\n",
      "Therefore, the correct answer is D. 120, as it is the only option that is not 0.\n"
     ]
    },
    {
     "data": {
      "text/html": [
       "<span style='color: green;'>Predicted Extracted Answer: D</span>"
      ],
      "text/plain": [
       "<IPython.core.display.HTML object>"
      ]
     },
     "metadata": {},
     "output_type": "display_data"
    },
    {
     "data": {
      "text/html": [
       "<span style='color: red; font-weight: bold;'>Correct Answer: C</span>"
      ],
      "text/plain": [
       "<IPython.core.display.HTML object>"
      ]
     },
     "metadata": {},
     "output_type": "display_data"
    },
    {
     "name": "stdout",
     "output_type": "stream",
     "text": [
      "\n",
      "Dataset: results_geometry_3k_finetuned\n",
      "Predicted Answer: To find the value of \\( x \\) in the given diagram, follow these steps:\n",
      "\n",
      "1. **Identify the angles:**\n",
      "   - The diagram shows four angles labeled \\( x \\), \\( x \\), \\( x \\), and \\( x \\).\n",
      "   - These angles are all equal because they are all at the same vertex.\n",
      "\n",
      "2. **Sum of angles around a point:**\n",
      "   - The sum of angles around a point is \\( 360^\\circ \\).\n",
      "   - Since all angles are equal, the sum of these four angles is \\( 4x \\).\n",
      "\n",
      "3. **Set up the equation:**\n",
      "   - The sum of the angles is \\( 360^\\circ \\).\n",
      "   - Therefore, \\( 4x = 360^\\circ \\).\n",
      "\n",
      "4. **Solve for \\( x \\):**\n",
      "   - Divide both sides of the equation by 4: \\( x = \\frac{360^\\circ}{4} \\).\n",
      "   - Simplify: \\( x = 90^\\circ \\).\n",
      "\n",
      "5. **Verify the answer:**\n",
      "   - The value of \\( x \\) is 90 degrees, which matches one of the given choices.\n",
      "\n",
      "Therefore, the correct answer is:\n",
      "\n",
      "Answer: C\n"
     ]
    },
    {
     "data": {
      "text/html": [
       "<span style='color: green;'>Predicted Extracted Answer: C</span>"
      ],
      "text/plain": [
       "<IPython.core.display.HTML object>"
      ]
     },
     "metadata": {},
     "output_type": "display_data"
    },
    {
     "data": {
      "text/html": [
       "<span style='color: red; font-weight: bold;'>Correct Answer: C</span>"
      ],
      "text/plain": [
       "<IPython.core.display.HTML object>"
      ]
     },
     "metadata": {},
     "output_type": "display_data"
    },
    {
     "name": "stdout",
     "output_type": "stream",
     "text": [
      "\n",
      "Dataset: results_geometry_3k_gpto\n",
      "Question: Find x.\n",
      "Choices:\n",
      "1. 60\n",
      "2. 80\n",
      "3. 90\n",
      "4. 120\n"
     ]
    },
    {
     "data": {
      "image/png": "[encoded data removed]",
      "text/plain": [
       "<IPython.core.display.Image object>"
      ]
     },
     "metadata": {
      "image/png": {
       "width": 400
      }
     },
     "output_type": "display_data"
    },
    {
     "name": "stdout",
     "output_type": "stream",
     "text": [
      "Predicted Answer: To find the value of \\( x \\), let's analyze the given diagram step by step.\n",
      "\n",
      "1. The diagram shows four angles, each labeled as \\( x^\\circ \\), arranged around a point.\n",
      "2. The angles around a point add up to \\( 360^\\circ \\).\n",
      "\n",
      "Thus:\n",
      "\\[ x^\\circ + x^\\circ + x^\\circ + x^\\circ = 360^\\circ \\]\n",
      "\n",
      "This can be simplified to:\n",
      "\\[ 4x = 360^\\circ \\]\n",
      "\n",
      "To find \\( x \\), we divide both sides by 4:\n",
      "\\[ x = \\frac{360^\\circ}{4} \\]\n",
      "\\[ x = 90^\\circ \\]\n",
      "\n",
      "So, the correct option is:\n",
      "\\[ C \\]\n",
      "\n",
      "Therefore, the value of \\( x \\) is \\( 90 \\) degrees.\n"
     ]
    },
    {
     "data": {
      "text/html": [
       "<span style='color: green;'>Predicted Extracted Answer: C</span>"
      ],
      "text/plain": [
       "<IPython.core.display.HTML object>"
      ]
     },
     "metadata": {},
     "output_type": "display_data"
    },
    {
     "data": {
      "text/html": [
       "<span style='color: red; font-weight: bold;'>Correct Answer: C</span>"
      ],
      "text/plain": [
       "<IPython.core.display.HTML object>"
      ]
     },
     "metadata": {},
     "output_type": "display_data"
    },
    {
     "name": "stdout",
     "output_type": "stream",
     "text": [
      "\n",
      "==================================================\n",
      "\n"
     ]
    }
   ],
   "source": [
    "questions_to_display = [41]\n",
    "\n",
    "for question in questions_to_display:\n",
    "    print(f\"Displaying predictions for question {question} across all datasets:\")\n",
    "    \n",
    "    print(\"\\nDataset: results_geometry_3k_baseline_direct\")\n",
    "    display_prediction(question, results_geometry_3k_baseline_direct, show_details=True)\n",
    "    \n",
    "    print(\"\\nDataset: results_geometry_3k_baseline_cot\")\n",
    "    display_prediction(question, results_geometry_3k_baseline_cot, show_details=False)\n",
    "    \n",
    "    print(\"\\nDataset: results_geometry_3k_finetuned\")\n",
    "    display_prediction(question, results_geometry_3k_finetuned, show_details=False)\n",
    "\n",
    "    print(\"\\nDataset: results_geometry_3k_gpto\")\n",
    "    display_prediction(question, results_geometry_3k_baseline_cot_gpto, show_details=True)\n",
    "    \n",
    "    print(\"\\n\" + \"=\"*50 + \"\\n\")"
   ]
  },
  {
   "cell_type": "code",
   "execution_count": 54,
   "metadata": {},
   "outputs": [
    {
     "name": "stdout",
     "output_type": "stream",
     "text": [
      "Number of items with invalid predicted answers (finetuned): 66\n",
      "Percentage of items with invalid predicted answers (finetuned): 10.98%\n",
      "Number of items with invalid predicted answers (baseline_direct): 7\n",
      "Percentage of items with invalid predicted answers (baseline_direct): 1.16%\n",
      "Number of items with invalid predicted answers (baseline_cot): 14\n",
      "Percentage of items with invalid predicted answers (baseline_cot): 2.33%\n",
      "\n",
      "Comparison of invalid predicted answer percentages:\n",
      "Finetuned vs Baseline Direct: Higher\n",
      "Finetuned vs Baseline CoT: Higher\n",
      "Baseline Direct vs Baseline CoT: Lower or Equal\n"
     ]
    }
   ],
   "source": [
    "# Find items where the predicted answer is not one of A, B, C, or D for finetuned\n",
    "invalid_predicted_answers_finetuned = [item for item in results_geometry_3k_finetuned if item['extracted_answer'] not in ['A', 'B', 'C', 'D']]\n",
    "\n",
    "# Calculate the percentage of such items for finetuned\n",
    "total_items_finetuned = len(results_geometry_3k_finetuned)\n",
    "invalid_percentage_finetuned = (len(invalid_predicted_answers_finetuned) / total_items_finetuned) * 100\n",
    "\n",
    "# Display the results for finetuned\n",
    "print(f\"Number of items with invalid predicted answers (finetuned): {len(invalid_predicted_answers_finetuned)}\")\n",
    "print(f\"Percentage of items with invalid predicted answers (finetuned): {invalid_percentage_finetuned:.2f}%\")\n",
    "\n",
    "# Find items where the predicted answer is not one of A, B, C, or D for baseline_direct\n",
    "invalid_predicted_answers_direct = [item for item in results_geometry_3k_baseline_direct if item['extracted_answer'] not in ['A', 'B', 'C', 'D']]\n",
    "\n",
    "# Calculate the percentage of such items for baseline_direct\n",
    "total_items_direct = len(results_geometry_3k_baseline_direct)\n",
    "invalid_percentage_direct = (len(invalid_predicted_answers_direct) / total_items_direct) * 100\n",
    "\n",
    "# Display the results for baseline_direct\n",
    "print(f\"Number of items with invalid predicted answers (baseline_direct): {len(invalid_predicted_answers_direct)}\")\n",
    "print(f\"Percentage of items with invalid predicted answers (baseline_direct): {invalid_percentage_direct:.2f}%\")\n",
    "\n",
    "# Find items where the predicted answer is not one of A, B, C, or D for baseline_cot\n",
    "invalid_predicted_answers_cot = [item for item in results_geometry_3k_baseline_cot if item['extracted_answer'] not in ['A', 'B', 'C', 'D']]\n",
    "\n",
    "# Calculate the percentage of such items for baseline_cot\n",
    "total_items_cot = len(results_geometry_3k_baseline_cot)\n",
    "invalid_percentage_cot = (len(invalid_predicted_answers_cot) / total_items_cot) * 100\n",
    "\n",
    "# Display the results for baseline_cot\n",
    "print(f\"Number of items with invalid predicted answers (baseline_cot): {len(invalid_predicted_answers_cot)}\")\n",
    "print(f\"Percentage of items with invalid predicted answers (baseline_cot): {invalid_percentage_cot:.2f}%\")\n",
    "\n",
    "# Compare the percentages\n",
    "print(\"\\nComparison of invalid predicted answer percentages:\")\n",
    "print(f\"Finetuned vs Baseline Direct: {'Higher' if invalid_percentage_finetuned > invalid_percentage_direct else 'Lower or Equal'}\")\n",
    "print(f\"Finetuned vs Baseline CoT: {'Higher' if invalid_percentage_finetuned > invalid_percentage_cot else 'Lower or Equal'}\")\n",
    "print(f\"Baseline Direct vs Baseline CoT: {'Higher' if invalid_percentage_direct > invalid_percentage_cot else 'Lower or Equal'}\")\n"
   ]
  },
  {
   "cell_type": "markdown",
   "metadata": {},
   "source": [
    "evaluated"
   ]
  },
  {
   "cell_type": "code",
   "execution_count": 8,
   "metadata": {},
   "outputs": [
    {
     "name": "stdout",
     "output_type": "stream",
     "text": [
      "Number of items with final_answer_score == 1: 1271\n",
      "Percentage of items with final_answer_score == 1: 60.50%\n",
      "\n",
      "Distribution of answer_score for items with final_answer_score == 1:\n",
      "0-0.2: 4 items\n",
      "0.2-0.4: 13 items\n",
      "0.4-0.6: 68 items\n",
      "0.6-0.8: 186 items\n",
      "0.8-1.0: 999 items\n",
      "\n",
      "Distribution of answer_score:\n",
      "0-0.2: 68 items\n",
      "0.2-0.4: 51 items\n",
      "0.4-0.6: 198 items\n",
      "0.6-0.8: 420 items\n",
      "0.8-1.0: 1358 items\n"
     ]
    }
   ],
   "source": [
    "# Assuming `results_geometry_3k_finetuned` is a list of dictionaries where each dictionary represents an item\n",
    "# and contains a key 'final_answer_score' with a float value.\n",
    "\n",
    "import json\n",
    "\n",
    "# Load the JSON data from the file\n",
    "with open(\"dataset/training/geometry_3k/geometry_3k_evaluated_20240526_013455.json\", \"r\") as file:\n",
    "    geometry_3k_evaluated = json.load(file)\n",
    "\n",
    "\n",
    "# Count the number of items with final_answer_score == 1\n",
    "items_with_score_1 = [item for item in geometry_3k_evaluated if item.get('final_answer_score') == 1]\n",
    "count_score_1 = len(items_with_score_1)\n",
    "\n",
    "# Calculate the total number of items\n",
    "total_items = len(geometry_3k_evaluated)\n",
    "\n",
    "# Calculate the percentage of items with final_answer_score == 1\n",
    "percentage_score_1 = (count_score_1 / total_items) * 100 if total_items > 0 else 0\n",
    "\n",
    "# Display the results\n",
    "print(f\"Number of items with final_answer_score == 1: {count_score_1}\")\n",
    "print(f\"Percentage of items with final_answer_score == 1: {percentage_score_1:.2f}%\")\n",
    "\n",
    "# Initialize buckets for answer_score ranges\n",
    "buckets = {\n",
    "    '0-0.2': 0,\n",
    "    '0.2-0.4': 0,\n",
    "    '0.4-0.6': 0,\n",
    "    '0.6-0.8': 0,\n",
    "    '0.8-1.0': 0\n",
    "}\n",
    "\n",
    "# Count the number of items in each bucket\n",
    "for item in geometry_3k_evaluated:\n",
    "    score = item.get('average_score', 0)\n",
    "    if isinstance(score, (int, float)):  # Check if score is a number\n",
    "        if 0 <= score < 0.2:\n",
    "            buckets['0-0.2'] += 1\n",
    "        elif 0.2 <= score < 0.4:\n",
    "            buckets['0.2-0.4'] += 1\n",
    "        elif 0.4 <= score < 0.6:\n",
    "            buckets['0.4-0.6'] += 1\n",
    "        elif 0.6 <= score < 0.8:\n",
    "            buckets['0.6-0.8'] += 1\n",
    "        elif 0.8 <= score <= 1.0:\n",
    "            buckets['0.8-1.0'] += 1\n",
    "\n",
    "# Initialize buckets for answer_score ranges for items with final_answer_score == 1\n",
    "buckets_score_1 = {\n",
    "    '0-0.2': 0,\n",
    "    '0.2-0.4': 0,\n",
    "    '0.4-0.6': 0,\n",
    "    '0.6-0.8': 0,\n",
    "    '0.8-1.0': 0\n",
    "}\n",
    "\n",
    "# Count the number of items in each bucket for items with final_answer_score == 1\n",
    "for item in items_with_score_1:\n",
    "    score = item.get('average_score', 0)\n",
    "    if isinstance(score, (int, float)):  # Check if score is a number\n",
    "        if 0 <= score < 0.2:\n",
    "            buckets_score_1['0-0.2'] += 1\n",
    "        elif 0.2 <= score < 0.4:\n",
    "            buckets_score_1['0.2-0.4'] += 1\n",
    "        elif 0.4 <= score < 0.6:\n",
    "            buckets_score_1['0.4-0.6'] += 1\n",
    "        elif 0.6 <= score < 0.8:\n",
    "            buckets_score_1['0.6-0.8'] += 1\n",
    "        elif 0.8 <= score <= 1.0:\n",
    "            buckets_score_1['0.8-1.0'] += 1\n",
    "\n",
    "# Display the bucket results for items with final_answer_score == 1\n",
    "print(\"\\nDistribution of answer_score for items with final_answer_score == 1:\")\n",
    "for range, count in buckets_score_1.items():\n",
    "    print(f\"{range}: {count} items\")\n",
    "\n",
    "\n",
    "# Display the bucket results\n",
    "print(\"\\nDistribution of answer_score:\")\n",
    "for range, count in buckets.items():\n",
    "    print(f\"{range}: {count} items\")\n"
   ]
  },
  {
   "cell_type": "markdown",
   "metadata": {},
   "source": [
    "experiment 2"
   ]
  },
  {
   "cell_type": "code",
   "execution_count": null,
   "metadata": {},
   "outputs": [],
   "source": []
  }
 ],
 "metadata": {
  "kernelspec": {
   "display_name": "Python 3 (ipykernel)",
   "language": "python",
   "name": "python3"
  },
  "language_info": {
   "codemirror_mode": {
    "name": "ipython",
    "version": 3
   },
   "file_extension": ".py",
   "mimetype": "text/x-python",
   "name": "python",
   "nbconvert_exporter": "python",
   "pygments_lexer": "ipython3",
   "version": "3.10.14"
  }
 },
 "nbformat": 4,
 "nbformat_minor": 4
}
