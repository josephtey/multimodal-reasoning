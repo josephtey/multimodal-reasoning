{
 "cells": [
  {
   "cell_type": "code",
   "execution_count": 62,
   "metadata": {},
   "outputs": [
    {
     "name": "stdout",
     "output_type": "stream",
     "text": [
      "Accuracy: 21.80%\n",
      "Total items: 601\n",
      "Accuracy: 23.29%\n",
      "Total items: 601\n",
      "Accuracy: 27.62%\n",
      "Total items: 601\n"
     ]
    }
   ],
   "source": [
    "import os\n",
    "\n",
    "# List of files to process\n",
    "files_to_process = [\n",
    "    'results/files/results_geometry_3k_baseline_cot_20240523_004840.json',\n",
    "    'results/files/results_geometry_3k_baseline_direct_20240521_092635.json',\n",
    "    'results/files/results_geometry_3k_finetuned_20240521_102206.json'\n",
    "]\n",
    "\n",
    "# Run the results.py script for each file\n",
    "for file in files_to_process:\n",
    "    os.system(f'python results/results.py --file \"{file}\" --key \"extracted_answer\"')\n"
   ]
  },
  {
   "cell_type": "code",
   "execution_count": 41,
   "metadata": {},
   "outputs": [],
   "source": [
    "import json\n",
    "\n",
    "# Load the JSON data from the files\n",
    "with open('results/files/results_geometry_3k_baseline_cot_20240523_004840.json', 'r') as file1, \\\n",
    "     open('results/files/results_geometry_3k_baseline_direct_20240521_092635.json', 'r') as file2, \\\n",
    "     open('results/files/results_geometry_3k_finetuned_20240521_102206.json', 'r') as file3:\n",
    "    results_geometry_3k_baseline_cot = json.load(file1)\n",
    "    results_geometry_3k_baseline_direct = json.load(file2)\n",
    "    results_geometry_3k_finetuned = json.load(file3)\n"
   ]
  },
  {
   "cell_type": "code",
   "execution_count": 48,
   "metadata": {},
   "outputs": [],
   "source": [
    "def display_prediction(number, data, show_details=True):\n",
    "    if 0 <= number < len(data):\n",
    "        entry = data[number]\n",
    "        \n",
    "        if show_details:\n",
    "            # Display the question\n",
    "            print(f\"Question: {entry['problem_text']}\")\n",
    "            # Display the choices\n",
    "            choices = entry.get('choices', [])\n",
    "            if choices:\n",
    "                print(\"Choices:\")\n",
    "                for idx, choice in enumerate(choices, start=1):\n",
    "                    print(f\"{idx}. {choice}\")\n",
    "            else:\n",
    "                print(\"No choices available.\")\n",
    "            \n",
    "            # Display the image\n",
    "            from IPython.display import Image, display\n",
    "            image_path = f\"dataset/eval/geometry_3k/images/{entry['image_id']}.png\"\n",
    "            display(Image(filename=image_path, width=200))\n",
    "        \n",
    "        # Display the predicted answer\n",
    "        print(f\"Predicted Answer: {entry['predicted_answer']}\")\n",
    "        \n",
    "        from IPython.display import display, HTML\n",
    "        display(HTML(f\"<span style='color: green;'>Predicted Extracted Answer: {entry['extracted_answer']}</span>\"))\n",
    "        display(HTML(f\"<span style='color: red; font-weight: bold;'>Correct Answer: {entry['answer']}</span>\"))\n",
    "    else:\n",
    "        print(f\"Invalid number: {number}. It should be between 0 and {len(data) - 1}.\")\n"
   ]
  },
  {
   "cell_type": "code",
   "execution_count": 58,
   "metadata": {},
   "outputs": [
    {
     "name": "stdout",
     "output_type": "stream",
     "text": [
      "Displaying predictions for question 0 across all datasets:\n",
      "\n",
      "Dataset: results_geometry_3k_baseline_direct\n",
      "Question: Find the area of the figure.\n",
      "Choices:\n",
      "1. 30\n",
      "2. 60\n",
      "3. 120\n",
      "4. 240\n"
     ]
    },
    {
     "data": {
      "image/png": "[encoded data removed]",
      "text/plain": [
       "<IPython.core.display.Image object>"
      ]
     },
     "metadata": {
      "image/png": {
       "width": 200
      }
     },
     "output_type": "display_data"
    },
    {
     "name": "stdout",
     "output_type": "stream",
     "text": [
      "Predicted Answer: C. 120\n"
     ]
    },
    {
     "data": {
      "text/html": [
       "<span style='color: green;'>Predicted Extracted Answer: C</span>"
      ],
      "text/plain": [
       "<IPython.core.display.HTML object>"
      ]
     },
     "metadata": {},
     "output_type": "display_data"
    },
    {
     "data": {
      "text/html": [
       "<span style='color: red; font-weight: bold;'>Correct Answer: B</span>"
      ],
      "text/plain": [
       "<IPython.core.display.HTML object>"
      ]
     },
     "metadata": {},
     "output_type": "display_data"
    },
    {
     "name": "stdout",
     "output_type": "stream",
     "text": [
      "\n",
      "Dataset: results_geometry_3k_baseline_cot\n",
      "Predicted Answer: C. 120\n"
     ]
    },
    {
     "data": {
      "text/html": [
       "<span style='color: green;'>Predicted Extracted Answer: C</span>"
      ],
      "text/plain": [
       "<IPython.core.display.HTML object>"
      ]
     },
     "metadata": {},
     "output_type": "display_data"
    },
    {
     "data": {
      "text/html": [
       "<span style='color: red; font-weight: bold;'>Correct Answer: B</span>"
      ],
      "text/plain": [
       "<IPython.core.display.HTML object>"
      ]
     },
     "metadata": {},
     "output_type": "display_data"
    },
    {
     "name": "stdout",
     "output_type": "stream",
     "text": [
      "\n",
      "Dataset: results_geometry_3k_finetuned\n",
      "Predicted Answer: To find the area of the figure, we need to follow these steps:\n",
      "\n",
      "1. **Identify the type of triangle**: The triangle is a right triangle, as indicated by the presence of a right angle.\n",
      "\n",
      "2. **Determine the base and height**: The base of the triangle is given as 13 units, and the height is 10 units.\n",
      "\n",
      "3. **Use the formula for the area of a right triangle**: The area of a right triangle is given by the formula: \\( \\text{Area} = \\frac{1}{2} \\times \\text{base} \\times \\text{height} \\).\n",
      "\n",
      "4. **Substitute the values**: Substitute the given values into the formula: \\( \\text{Area} = \\frac{1}{2} \\times 13 \\times 10 \\).\n",
      "\n",
      "5. **Calculate the area**: Simplify the expression: \\( \\text{Area} = \\frac{1}{2} \\times 130 \\) = 65 square units.\n",
      "\n",
      "Therefore, the area of the figure is 65 square units.\n",
      "\n",
      "Answer: B\n"
     ]
    },
    {
     "data": {
      "text/html": [
       "<span style='color: green;'>Predicted Extracted Answer: B</span>"
      ],
      "text/plain": [
       "<IPython.core.display.HTML object>"
      ]
     },
     "metadata": {},
     "output_type": "display_data"
    },
    {
     "data": {
      "text/html": [
       "<span style='color: red; font-weight: bold;'>Correct Answer: B</span>"
      ],
      "text/plain": [
       "<IPython.core.display.HTML object>"
      ]
     },
     "metadata": {},
     "output_type": "display_data"
    },
    {
     "name": "stdout",
     "output_type": "stream",
     "text": [
      "\n",
      "==================================================\n",
      "\n",
      "Displaying predictions for question 5 across all datasets:\n",
      "\n",
      "Dataset: results_geometry_3k_baseline_direct\n",
      "Question: Find the value of x in the diagram.\n",
      "Choices:\n",
      "1. 68\n",
      "2. 78\n",
      "3. 79\n",
      "4. 136\n"
     ]
    },
    {
     "data": {
      "image/png": "[encoded data removed]",
      "text/plain": [
       "<IPython.core.display.Image object>"
      ]
     },
     "metadata": {
      "image/png": {
       "width": 200
      }
     },
     "output_type": "display_data"
    },
    {
     "name": "stdout",
     "output_type": "stream",
     "text": [
      "Predicted Answer: C. 79\n"
     ]
    },
    {
     "data": {
      "text/html": [
       "<span style='color: green;'>Predicted Extracted Answer: C</span>"
      ],
      "text/plain": [
       "<IPython.core.display.HTML object>"
      ]
     },
     "metadata": {},
     "output_type": "display_data"
    },
    {
     "data": {
      "text/html": [
       "<span style='color: red; font-weight: bold;'>Correct Answer: A</span>"
      ],
      "text/plain": [
       "<IPython.core.display.HTML object>"
      ]
     },
     "metadata": {},
     "output_type": "display_data"
    },
    {
     "name": "stdout",
     "output_type": "stream",
     "text": [
      "\n",
      "Dataset: results_geometry_3k_baseline_cot\n",
      "Predicted Answer: C. 79\n"
     ]
    },
    {
     "data": {
      "text/html": [
       "<span style='color: green;'>Predicted Extracted Answer: C</span>"
      ],
      "text/plain": [
       "<IPython.core.display.HTML object>"
      ]
     },
     "metadata": {},
     "output_type": "display_data"
    },
    {
     "data": {
      "text/html": [
       "<span style='color: red; font-weight: bold;'>Correct Answer: A</span>"
      ],
      "text/plain": [
       "<IPython.core.display.HTML object>"
      ]
     },
     "metadata": {},
     "output_type": "display_data"
    },
    {
     "name": "stdout",
     "output_type": "stream",
     "text": [
      "\n",
      "Dataset: results_geometry_3k_finetuned\n",
      "Predicted Answer: To find the value of \\( x \\) in the diagram, follow these steps:\n",
      "\n",
      "1. **Identify the angles:**\n",
      "   - The diagram shows two intersecting lines forming four angles.\n",
      "   - The angles \\( \\angle 1 \\) and \\( \\angle 2 \\) are given as \\( 79^\\circ \\) and \\( 2x^\\circ \\) respectively.\n",
      "   - The angles \\( \\angle 3 \\) and \\( \\angle 4 \\) are not directly given.\n",
      "\n",
      "2. **Use the angle sum property:**\n",
      "   - The sum of the angles around a point is \\( 180^\\circ \\).\n",
      "   - Since the lines intersect, the sum of the angles on one side of the intersection is \\( 180^\\circ \\).\n",
      "\n",
      "3. **Set up the equation:**\n",
      "   - The sum of the angles on one side of the intersection is \\( x - 1 + 2x + 10 \\) degrees.\n",
      "   - Set this equal to \\( 180^\\circ \\):\n",
      "   \\[\n",
      "   x - 1 + 2x + 10 = 180\n",
      "   \\]\n",
      "\n",
      "4. **Solve for \\( x \\):**\n",
      "   - Combine like terms:\n",
      "   \\[\n",
      "   3x + 9 = 180\n",
      "   \\]\n",
      "   - Subtract 9 from both sides:\n",
      "   \\[\n",
      "   3x = 171\n",
      "   \\]\n",
      "   - Divide by 3:\n",
      "   \\[\n",
      "   x = 57\n",
      "   \\]\n",
      "\n",
      "5. **Check the answer:**\n",
      "   - Substitute \\( x = 57 \\) back into the given angles:\n",
      "   \\[\n",
      "   \\angle 1 = 79^\\circ \\quad \\text{and} \\quad \\angle 2 = 2(57)^\\circ = 114^\\circ\n",
      "   \\]\n",
      "   - Verify that the sum of the angles on one side of the intersection is \\( 180^\\circ \\):\n",
      "   \\[\n",
      "   79^\\circ + 114^\\circ + 10^\\circ = 193^\\circ\n",
      "   \\]\n",
      "   - The sum is not equal to \\( 180^\\circ \\), so the value of \\( x \\) is incorrect.\n",
      "\n",
      "Therefore, the correct answer is not provided in the choices.\n"
     ]
    },
    {
     "data": {
      "text/html": [
       "<span style='color: green;'>Predicted Extracted Answer: A detailed examination is necessary to ensure there is no mistake in the provided information or answer derivation. The detailed answer contains several steps and numerical aspects that don't align precisely with the choices given due to a logical or typographical error:\n",
       "\n",
       "1. The problem outlines intersecting lines, suggesting complementary angles summing to \\( 180^\\circ \\), not 193^\\circ.\n",
       "\n",
       "2. The angles \\( \\angle 1 = 79^\\circ \\), \\( \\angle 2 = 2x^\\circ \\).\n",
       "\n",
       "Simplifying without sidestepping the approach described:\n",
       "- Intersection property entails that one angle pair sums to \\( 180^\\circ \\) or context must be refocused given invalid values intertwined.\n",
       "\n",
       "No alignment found directly between given choices (68, 78, 79, 136) and \\( x = 57 \\).\n",
       "\n",
       "Reconfirming:\n",
       "\n",
       "1. \\( \\boxed{4 \\ } \\) choices.\n",
       "2. The explicit verification error confirms need for accurate value recon process if orienting sum property trivially.\n",
       "3. \\( Providing overlaps: Correct Answer - Valuable review attested “D. 136 experienced read verification or loop”.\n",
       "\n",
       "Thus, Selected proactive rational letter is: **D. \\underline{Verification}**. Selected logically coherent **D**.</span>"
      ],
      "text/plain": [
       "<IPython.core.display.HTML object>"
      ]
     },
     "metadata": {},
     "output_type": "display_data"
    },
    {
     "data": {
      "text/html": [
       "<span style='color: red; font-weight: bold;'>Correct Answer: A</span>"
      ],
      "text/plain": [
       "<IPython.core.display.HTML object>"
      ]
     },
     "metadata": {},
     "output_type": "display_data"
    },
    {
     "name": "stdout",
     "output_type": "stream",
     "text": [
      "\n",
      "==================================================\n",
      "\n",
      "Displaying predictions for question 10 across all datasets:\n",
      "\n",
      "Dataset: results_geometry_3k_baseline_direct\n",
      "Question: Find the area of the shaded region. Round to the nearest tenth.\n",
      "Choices:\n",
      "1. 104.7\n",
      "2. 157.1\n",
      "3. 235.6\n",
      "4. 314.2\n"
     ]
    },
    {
     "data": {
      "image/png": "[encoded data removed]",
      "text/plain": [
       "<IPython.core.display.Image object>"
      ]
     },
     "metadata": {
      "image/png": {
       "width": 200
      }
     },
     "output_type": "display_data"
    },
    {
     "name": "stdout",
     "output_type": "stream",
     "text": [
      "Predicted Answer: C. 235.6\n"
     ]
    },
    {
     "data": {
      "text/html": [
       "<span style='color: green;'>Predicted Extracted Answer: C</span>"
      ],
      "text/plain": [
       "<IPython.core.display.HTML object>"
      ]
     },
     "metadata": {},
     "output_type": "display_data"
    },
    {
     "data": {
      "text/html": [
       "<span style='color: red; font-weight: bold;'>Correct Answer: B</span>"
      ],
      "text/plain": [
       "<IPython.core.display.HTML object>"
      ]
     },
     "metadata": {},
     "output_type": "display_data"
    },
    {
     "name": "stdout",
     "output_type": "stream",
     "text": [
      "\n",
      "Dataset: results_geometry_3k_baseline_cot\n",
      "Predicted Answer: C. 235.6\n"
     ]
    },
    {
     "data": {
      "text/html": [
       "<span style='color: green;'>Predicted Extracted Answer: C</span>"
      ],
      "text/plain": [
       "<IPython.core.display.HTML object>"
      ]
     },
     "metadata": {},
     "output_type": "display_data"
    },
    {
     "data": {
      "text/html": [
       "<span style='color: red; font-weight: bold;'>Correct Answer: B</span>"
      ],
      "text/plain": [
       "<IPython.core.display.HTML object>"
      ]
     },
     "metadata": {},
     "output_type": "display_data"
    },
    {
     "name": "stdout",
     "output_type": "stream",
     "text": [
      "\n",
      "Dataset: results_geometry_3k_finetuned\n",
      "Predicted Answer: To find the area of the shaded region, we need to calculate the area of the larger circle and subtract the area of the smaller circle.\n",
      "\n",
      "1. **Calculate the area of the larger circle**:\n",
      "   - The radius of the larger circle is 20 units.\n",
      "   - The formula for the area of a circle is \\( A = \\pi r^2 \\).\n",
      "   - Substitute the radius into the formula: \\( A = \\pi \\times 20^2 = 400 \\pi \\).\n",
      "\n",
      "2. **Calculate the area of the smaller circle**:\n",
      "   - The radius of the smaller circle is 8 units.\n",
      "   - Substitute the radius into the formula: \\( A = \\pi \\times 8^2 = 64 \\pi \\).\n",
      "\n",
      "3. **Subtract the area of the smaller circle from the area of the larger circle**:\n",
      "   - \\( 400 \\pi - 64 \\pi = 336 \\pi \\).\n",
      "\n",
      "4. **Round the result to the nearest tenth**:\n",
      "   - \\( 336 \\pi \\approx 1047.2 \\).\n",
      "\n",
      "Therefore, the area of the shaded region is approximately \\( 1047.2 \\).\n",
      "\n",
      "Answer: D\n"
     ]
    },
    {
     "data": {
      "text/html": [
       "<span style='color: green;'>Predicted Extracted Answer: D</span>"
      ],
      "text/plain": [
       "<IPython.core.display.HTML object>"
      ]
     },
     "metadata": {},
     "output_type": "display_data"
    },
    {
     "data": {
      "text/html": [
       "<span style='color: red; font-weight: bold;'>Correct Answer: B</span>"
      ],
      "text/plain": [
       "<IPython.core.display.HTML object>"
      ]
     },
     "metadata": {},
     "output_type": "display_data"
    },
    {
     "name": "stdout",
     "output_type": "stream",
     "text": [
      "\n",
      "==================================================\n",
      "\n",
      "Displaying predictions for question 15 across all datasets:\n",
      "\n",
      "Dataset: results_geometry_3k_baseline_direct\n",
      "Question: Find y in the figure.\n",
      "Choices:\n",
      "1. 5\n",
      "2. 6\n",
      "3. 7\n",
      "4. 8\n"
     ]
    },
    {
     "data": {
      "image/png": "[encoded data removed]",
      "text/plain": [
       "<IPython.core.display.Image object>"
      ]
     },
     "metadata": {
      "image/png": {
       "width": 200
      }
     },
     "output_type": "display_data"
    },
    {
     "name": "stdout",
     "output_type": "stream",
     "text": [
      "Predicted Answer: D. 8\n"
     ]
    },
    {
     "data": {
      "text/html": [
       "<span style='color: green;'>Predicted Extracted Answer: D</span>"
      ],
      "text/plain": [
       "<IPython.core.display.HTML object>"
      ]
     },
     "metadata": {},
     "output_type": "display_data"
    },
    {
     "data": {
      "text/html": [
       "<span style='color: red; font-weight: bold;'>Correct Answer: B</span>"
      ],
      "text/plain": [
       "<IPython.core.display.HTML object>"
      ]
     },
     "metadata": {},
     "output_type": "display_data"
    },
    {
     "name": "stdout",
     "output_type": "stream",
     "text": [
      "\n",
      "Dataset: results_geometry_3k_baseline_cot\n",
      "Predicted Answer: D. 8\n"
     ]
    },
    {
     "data": {
      "text/html": [
       "<span style='color: green;'>Predicted Extracted Answer: D</span>"
      ],
      "text/plain": [
       "<IPython.core.display.HTML object>"
      ]
     },
     "metadata": {},
     "output_type": "display_data"
    },
    {
     "data": {
      "text/html": [
       "<span style='color: red; font-weight: bold;'>Correct Answer: B</span>"
      ],
      "text/plain": [
       "<IPython.core.display.HTML object>"
      ]
     },
     "metadata": {},
     "output_type": "display_data"
    },
    {
     "name": "stdout",
     "output_type": "stream",
     "text": [
      "\n",
      "Dataset: results_geometry_3k_finetuned\n",
      "Predicted Answer: To find \\( y \\) in the given diagram, follow these steps:\n",
      "\n",
      "1. **Identify the angles:**\n",
      "   - The angles \\( 8y + 2 \\) and \\( 25y - 20 \\) are given.\n",
      "   - The angle \\( 10x \\) is also provided.\n",
      "\n",
      "2. **Set up the equation:**\n",
      "   - The sum of the angles on a straight line is 180°.\n",
      "   - Therefore, \\( 8y + 2 + 25y - 20 + 10x = 180 \\).\n",
      "\n",
      "3. **Combine like terms:**\n",
      "   - Simplify the equation: \\( 33y + 10x = 180 \\).\n",
      "\n",
      "4. **Solve for \\( y \\):**\n",
      "   - Rearrange the equation to isolate \\( y \\): \\( 33y = 180 - 10x \\).\n",
      "   - Divide both sides by 33: \\( y = \\frac{180 - 10x}{33} \\).\n",
      "\n",
      "5. **Substitute the given value of \\( x \\):**\n",
      "   - Substitute \\( x = 10 \\) into the equation: \\( y = \\frac{180 - 10(10)}{33} \\).\n",
      "   - Simplify: \\( y = \\frac{180 - 100}{33} \\).\n",
      "   - Calculate: \\( y = \\frac{80}{33} \\).\n",
      "\n",
      "6. **Convert to simplest form:**\n",
      "   - Simplify the fraction: \\( y \\approx 2.45 \\).\n",
      "\n",
      "7. **Choose the correct answer:**\n",
      "   - The closest choice to \\( 2.45 \\) is \\( B \\).\n",
      "\n",
      "Therefore, the correct answer is B.\n"
     ]
    },
    {
     "data": {
      "text/html": [
       "<span style='color: green;'>Predicted Extracted Answer: B</span>"
      ],
      "text/plain": [
       "<IPython.core.display.HTML object>"
      ]
     },
     "metadata": {},
     "output_type": "display_data"
    },
    {
     "data": {
      "text/html": [
       "<span style='color: red; font-weight: bold;'>Correct Answer: B</span>"
      ],
      "text/plain": [
       "<IPython.core.display.HTML object>"
      ]
     },
     "metadata": {},
     "output_type": "display_data"
    },
    {
     "name": "stdout",
     "output_type": "stream",
     "text": [
      "\n",
      "==================================================\n",
      "\n",
      "Displaying predictions for question 20 across all datasets:\n",
      "\n",
      "Dataset: results_geometry_3k_baseline_direct\n",
      "Question: Find the perimeter of the parallelogram. Round to the nearest tenth if necessary.\n",
      "Choices:\n",
      "1. 60\n",
      "2. 62\n",
      "3. 64\n",
      "4. 66\n"
     ]
    },
    {
     "data": {
      "image/png": "[encoded data removed]",
      "text/plain": [
       "<IPython.core.display.Image object>"
      ]
     },
     "metadata": {
      "image/png": {
       "width": 200
      }
     },
     "output_type": "display_data"
    },
    {
     "name": "stdout",
     "output_type": "stream",
     "text": [
      "Predicted Answer: The perimeter of the parallelogram is 60 cm.\n"
     ]
    },
    {
     "data": {
      "text/html": [
       "<span style='color: green;'>Predicted Extracted Answer: A</span>"
      ],
      "text/plain": [
       "<IPython.core.display.HTML object>"
      ]
     },
     "metadata": {},
     "output_type": "display_data"
    },
    {
     "data": {
      "text/html": [
       "<span style='color: red; font-weight: bold;'>Correct Answer: C</span>"
      ],
      "text/plain": [
       "<IPython.core.display.HTML object>"
      ]
     },
     "metadata": {},
     "output_type": "display_data"
    },
    {
     "name": "stdout",
     "output_type": "stream",
     "text": [
      "\n",
      "Dataset: results_geometry_3k_baseline_cot\n",
      "Predicted Answer: The perimeter of the parallelogram is 60 cm.\n"
     ]
    },
    {
     "data": {
      "text/html": [
       "<span style='color: green;'>Predicted Extracted Answer: A</span>"
      ],
      "text/plain": [
       "<IPython.core.display.HTML object>"
      ]
     },
     "metadata": {},
     "output_type": "display_data"
    },
    {
     "data": {
      "text/html": [
       "<span style='color: red; font-weight: bold;'>Correct Answer: C</span>"
      ],
      "text/plain": [
       "<IPython.core.display.HTML object>"
      ]
     },
     "metadata": {},
     "output_type": "display_data"
    },
    {
     "name": "stdout",
     "output_type": "stream",
     "text": [
      "\n",
      "Dataset: results_geometry_3k_finetuned\n",
      "Predicted Answer: To find the perimeter of the parallelogram, we need to add up the lengths of all four sides.\n",
      "\n",
      "1. **Identify the given side lengths:**\n",
      "   - The length of one side (base) is 20 cm.\n",
      "   - The length of the adjacent side (height) is 12 cm.\n",
      "   - The angle between the base and the adjacent side is 60°.\n",
      "\n",
      "2. **Use the properties of a parallelogram:**\n",
      "   - The opposite sides of a parallelogram are equal in length.\n",
      "   - The adjacent sides of a parallelogram are supplementary (sum to 180°).\n",
      "\n",
      "3. **Calculate the length of the other two sides:**\n",
      "   - The adjacent side to the base is the height, which is 12 cm.\n",
      "   - The opposite side to the base is also 12 cm, as it is the height.\n",
      "\n",
      "4. **Calculate the perimeter:**\n",
      "   - Perimeter = Base + Height + Base + Height\n",
      "   - Perimeter = 20 cm + 12 cm + 20 cm + 12 cm\n",
      "   - Perimeter = 64 cm\n",
      "\n",
      "5. **Round to the nearest tenth if necessary:**\n",
      "   - The perimeter is 64 cm.\n",
      "\n",
      "Therefore, the correct answer is C. 64.\n"
     ]
    },
    {
     "data": {
      "text/html": [
       "<span style='color: green;'>Predicted Extracted Answer: C</span>"
      ],
      "text/plain": [
       "<IPython.core.display.HTML object>"
      ]
     },
     "metadata": {},
     "output_type": "display_data"
    },
    {
     "data": {
      "text/html": [
       "<span style='color: red; font-weight: bold;'>Correct Answer: C</span>"
      ],
      "text/plain": [
       "<IPython.core.display.HTML object>"
      ]
     },
     "metadata": {},
     "output_type": "display_data"
    },
    {
     "name": "stdout",
     "output_type": "stream",
     "text": [
      "\n",
      "==================================================\n",
      "\n"
     ]
    }
   ],
   "source": [
    "questions_to_display = [0, 5, 10, 15, 20]\n",
    "\n",
    "for question in questions_to_display:\n",
    "    print(f\"Displaying predictions for question {question} across all datasets:\")\n",
    "    \n",
    "    print(\"\\nDataset: results_geometry_3k_baseline_direct\")\n",
    "    display_prediction(question, results_geometry_3k_baseline_direct, show_details=True)\n",
    "    \n",
    "    print(\"\\nDataset: results_geometry_3k_baseline_cot\")\n",
    "    display_prediction(question, results_geometry_3k_baseline_cot, show_details=False)\n",
    "    \n",
    "    print(\"\\nDataset: results_geometry_3k_finetuned\")\n",
    "    display_prediction(question, results_geometry_3k_finetuned, show_details=False)\n",
    "    \n",
    "    print(\"\\n\" + \"=\"*50 + \"\\n\")"
   ]
  },
  {
   "cell_type": "code",
   "execution_count": 54,
   "metadata": {},
   "outputs": [
    {
     "name": "stdout",
     "output_type": "stream",
     "text": [
      "Number of items with invalid predicted answers (finetuned): 66\n",
      "Percentage of items with invalid predicted answers (finetuned): 10.98%\n",
      "Number of items with invalid predicted answers (baseline_direct): 7\n",
      "Percentage of items with invalid predicted answers (baseline_direct): 1.16%\n",
      "Number of items with invalid predicted answers (baseline_cot): 14\n",
      "Percentage of items with invalid predicted answers (baseline_cot): 2.33%\n",
      "\n",
      "Comparison of invalid predicted answer percentages:\n",
      "Finetuned vs Baseline Direct: Higher\n",
      "Finetuned vs Baseline CoT: Higher\n",
      "Baseline Direct vs Baseline CoT: Lower or Equal\n"
     ]
    }
   ],
   "source": [
    "# Find items where the predicted answer is not one of A, B, C, or D for finetuned\n",
    "invalid_predicted_answers_finetuned = [item for item in results_geometry_3k_finetuned if item['extracted_answer'] not in ['A', 'B', 'C', 'D']]\n",
    "\n",
    "# Calculate the percentage of such items for finetuned\n",
    "total_items_finetuned = len(results_geometry_3k_finetuned)\n",
    "invalid_percentage_finetuned = (len(invalid_predicted_answers_finetuned) / total_items_finetuned) * 100\n",
    "\n",
    "# Display the results for finetuned\n",
    "print(f\"Number of items with invalid predicted answers (finetuned): {len(invalid_predicted_answers_finetuned)}\")\n",
    "print(f\"Percentage of items with invalid predicted answers (finetuned): {invalid_percentage_finetuned:.2f}%\")\n",
    "\n",
    "# Find items where the predicted answer is not one of A, B, C, or D for baseline_direct\n",
    "invalid_predicted_answers_direct = [item for item in results_geometry_3k_baseline_direct if item['extracted_answer'] not in ['A', 'B', 'C', 'D']]\n",
    "\n",
    "# Calculate the percentage of such items for baseline_direct\n",
    "total_items_direct = len(results_geometry_3k_baseline_direct)\n",
    "invalid_percentage_direct = (len(invalid_predicted_answers_direct) / total_items_direct) * 100\n",
    "\n",
    "# Display the results for baseline_direct\n",
    "print(f\"Number of items with invalid predicted answers (baseline_direct): {len(invalid_predicted_answers_direct)}\")\n",
    "print(f\"Percentage of items with invalid predicted answers (baseline_direct): {invalid_percentage_direct:.2f}%\")\n",
    "\n",
    "# Find items where the predicted answer is not one of A, B, C, or D for baseline_cot\n",
    "invalid_predicted_answers_cot = [item for item in results_geometry_3k_baseline_cot if item['extracted_answer'] not in ['A', 'B', 'C', 'D']]\n",
    "\n",
    "# Calculate the percentage of such items for baseline_cot\n",
    "total_items_cot = len(results_geometry_3k_baseline_cot)\n",
    "invalid_percentage_cot = (len(invalid_predicted_answers_cot) / total_items_cot) * 100\n",
    "\n",
    "# Display the results for baseline_cot\n",
    "print(f\"Number of items with invalid predicted answers (baseline_cot): {len(invalid_predicted_answers_cot)}\")\n",
    "print(f\"Percentage of items with invalid predicted answers (baseline_cot): {invalid_percentage_cot:.2f}%\")\n",
    "\n",
    "# Compare the percentages\n",
    "print(\"\\nComparison of invalid predicted answer percentages:\")\n",
    "print(f\"Finetuned vs Baseline Direct: {'Higher' if invalid_percentage_finetuned > invalid_percentage_direct else 'Lower or Equal'}\")\n",
    "print(f\"Finetuned vs Baseline CoT: {'Higher' if invalid_percentage_finetuned > invalid_percentage_cot else 'Lower or Equal'}\")\n",
    "print(f\"Baseline Direct vs Baseline CoT: {'Higher' if invalid_percentage_direct > invalid_percentage_cot else 'Lower or Equal'}\")\n"
   ]
  }
 ],
 "metadata": {
  "kernelspec": {
   "display_name": "venv",
   "language": "python",
   "name": "python3"
  },
  "language_info": {
   "codemirror_mode": {
    "name": "ipython",
    "version": 3
   },
   "file_extension": ".py",
   "mimetype": "text/x-python",
   "name": "python",
   "nbconvert_exporter": "python",
   "pygments_lexer": "ipython3",
   "version": "3.9.0"
  }
 },
 "nbformat": 4,
 "nbformat_minor": 2
}
