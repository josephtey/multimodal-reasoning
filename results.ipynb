{
 "cells": [
  {
   "cell_type": "code",
   "execution_count": 15,
   "metadata": {},
   "outputs": [
    {
     "name": "stdout",
     "output_type": "stream",
     "text": [
      "File processed: results/files/results_geometry_3k_baseline_direct_20240521_092635.json\n",
      "Accuracy: 23.29%\n",
      "Total items: 601\n",
      "Correct/Total: 140/601\n",
      "File processed: results/files/results_geometry_3k_baseline_cot_20240523_004840.json\n",
      "Accuracy: 21.80%\n",
      "Total items: 601\n",
      "Correct/Total: 131/601\n",
      "File processed: results/files/results_geometry_3k_finetuned_20240521_102206.json\n",
      "Accuracy: 27.62%\n",
      "Total items: 601\n",
      "Correct/Total: 166/601\n",
      "File processed: results/files/results_geometry_3k_finetuned_20240523_162428.json\n",
      "Accuracy: 28.45%\n",
      "Total items: 601\n",
      "Correct/Total: 171/601\n",
      "File processed: results/files/results_geometry_3k_baseline_cot_gpto_20240525_161954.json\n",
      "Accuracy: 55.91%\n",
      "Total items: 601\n",
      "Correct/Total: 336/601\n"
     ]
    }
   ],
   "source": [
    "import os\n",
    "\n",
    "# List of files to process\n",
    "files_to_process = [\n",
    "    'results/files/results_geometry_3k_baseline_direct_20240521_092635.json',\n",
    "    'results/files/results_geometry_3k_baseline_cot_20240523_004840.json',\n",
    "    'results/files/results_geometry_3k_finetuned_20240521_102206.json',\n",
    "    'results/files/results_geometry_3k_finetuned_20240523_162428.json', # 2,100 training samples\n",
    "    \"results/files/results_geometry_3k_baseline_cot_gpto_20240525_161954.json\"\n",
    "]\n",
    "\n",
    "# Run the results.py script for each file\n",
    "for file in files_to_process:\n",
    "    os.system(f'python results/results.py --file \"{file}\" --key \"extracted_answer\"')\n"
   ]
  },
  {
   "cell_type": "code",
   "execution_count": 23,
   "metadata": {},
   "outputs": [],
   "source": [
    "import json\n",
    "\n",
    "# Load the JSON data from the files\n",
    "with open('results/files/results_geometry_3k_baseline_cot_20240523_004840.json', 'r') as file1, \\\n",
    "     open('results/files/results_geometry_3k_baseline_direct_20240521_092635.json', 'r') as file2, \\\n",
    "     open('results/files/results_geometry_3k_finetuned_20240523_162428.json', 'r') as file3, \\\n",
    "     open('results/files/results_geometry_3k_baseline_cot_gpto_20240525_161954.json', 'r') as file4:\n",
    "    results_geometry_3k_baseline_cot = json.load(file1)\n",
    "    results_geometry_3k_baseline_direct = json.load(file2)\n",
    "    results_geometry_3k_finetuned = json.load(file3)\n",
    "    results_geometry_3k_baseline_cot_gpto = json.load(file4)\n"
   ]
  },
  {
   "cell_type": "code",
   "execution_count": 25,
   "metadata": {},
   "outputs": [],
   "source": [
    "import csv\n",
    "\n",
    "# Use the loaded JSON data from the previous cells\n",
    "data = {\n",
    "    \"baseline_direct\": results_geometry_3k_baseline_direct,\n",
    "    \"baseline_cot\": results_geometry_3k_baseline_cot,\n",
    "    \"finetuned\": results_geometry_3k_finetuned,\n",
    "    \"gpto\": results_geometry_3k_baseline_cot_gpto\n",
    "}\n",
    "\n",
    "# Determine the number of questions\n",
    "num_questions = len(data[\"baseline_direct\"])\n",
    "\n",
    "# Create the CSV file\n",
    "with open('results_comparison.csv', 'w', newline='') as csvfile:\n",
    "    csvwriter = csv.writer(csvfile)\n",
    "    # Write the header\n",
    "    csvwriter.writerow(['question number', 'baseline direct', 'baseline cot', 'finetuned', 'gpto', 'problem_type_goal', 'problem_type_graph'])\n",
    "    \n",
    "    # Write the data rows\n",
    "    for i in range(num_questions):\n",
    "        row = [i + 1]  # question number\n",
    "        for key in [\"baseline_direct\", \"baseline_cot\", \"finetuned\", \"gpto\"]:\n",
    "            extracted_answer = data[key][i].get(\"extracted_answer\")\n",
    "            correct_answer = data[key][i].get(\"answer\")\n",
    "            if extracted_answer == correct_answer:\n",
    "                row.append(extracted_answer)\n",
    "            else:\n",
    "                row.append(\"\")\n",
    "        # Add problem_type_goal and problem_type_graph to the row\n",
    "        problem_type_goal = data[\"baseline_direct\"][i].get(\"problem_type_goal\", [])\n",
    "        problem_type_graph = data[\"baseline_direct\"][i].get(\"problem_type_graph\", [])\n",
    "        row.append(\", \".join(problem_type_goal))\n",
    "        row.append(\", \".join(problem_type_graph))\n",
    "        csvwriter.writerow(row)\n"
   ]
  },
  {
   "cell_type": "code",
   "execution_count": 11,
   "metadata": {},
   "outputs": [],
   "source": [
    "def display_prediction(number, data, show_details=True):\n",
    "    if 0 <= number < len(data):\n",
    "        entry = data[number]\n",
    "        \n",
    "        if show_details:\n",
    "            # Display the question\n",
    "            print(f\"Question: {entry['problem_text']}\")\n",
    "            # Display the choices\n",
    "            choices = entry.get('choices', [])\n",
    "            if choices:\n",
    "                print(\"Choices:\")\n",
    "                for idx, choice in enumerate(choices, start=1):\n",
    "                    print(f\"{idx}. {choice}\")\n",
    "            else:\n",
    "                print(\"No choices available.\")\n",
    "            \n",
    "            # Display the image\n",
    "            from IPython.display import Image, display\n",
    "            image_path = f\"dataset/eval/geometry_3k/images/{entry['image_id']}.png\"\n",
    "            display(Image(filename=image_path, width=200))\n",
    "        \n",
    "        # Display the predicted answer\n",
    "        print(f\"Predicted Answer: {entry['predicted_answer']}\")\n",
    "        \n",
    "        from IPython.display import display, HTML\n",
    "        display(HTML(f\"<span style='color: green;'>Predicted Extracted Answer: {entry['extracted_answer']}</span>\"))\n",
    "        display(HTML(f\"<span style='color: red; font-weight: bold;'>Correct Answer: {entry['answer']}</span>\"))\n",
    "    else:\n",
    "        print(f\"Invalid number: {number}. It should be between 0 and {len(data) - 1}.\")\n"
   ]
  },
  {
   "cell_type": "code",
   "execution_count": 45,
   "metadata": {},
   "outputs": [
    {
     "name": "stdout",
     "output_type": "stream",
     "text": [
      "Displaying predictions for question 20 across all datasets:\n",
      "\n",
      "Dataset: results_geometry_3k_baseline_direct\n",
      "Question: Find the perimeter of the parallelogram. Round to the nearest tenth if necessary.\n",
      "Choices:\n",
      "1. 60\n",
      "2. 62\n",
      "3. 64\n",
      "4. 66\n"
     ]
    },
    {
     "data": {
      "image/png": "[encoded data removed]",
      "text/plain": [
       "<IPython.core.display.Image object>"
      ]
     },
     "metadata": {
      "image/png": {
       "width": 200
      }
     },
     "output_type": "display_data"
    },
    {
     "name": "stdout",
     "output_type": "stream",
     "text": [
      "Predicted Answer: The perimeter of the parallelogram is 60 cm.\n"
     ]
    },
    {
     "data": {
      "text/html": [
       "<span style='color: green;'>Predicted Extracted Answer: A</span>"
      ],
      "text/plain": [
       "<IPython.core.display.HTML object>"
      ]
     },
     "metadata": {},
     "output_type": "display_data"
    },
    {
     "data": {
      "text/html": [
       "<span style='color: red; font-weight: bold;'>Correct Answer: C</span>"
      ],
      "text/plain": [
       "<IPython.core.display.HTML object>"
      ]
     },
     "metadata": {},
     "output_type": "display_data"
    },
    {
     "name": "stdout",
     "output_type": "stream",
     "text": [
      "\n",
      "Dataset: results_geometry_3k_baseline_cot\n",
      "Predicted Answer: The image shows a parallelogram with a side length of 12 cm and a diagonal length of 20 cm. To find the perimeter of the parallelogram, we need to add up the lengths of all four sides. Since the opposite sides of a parallelogram are equal in length, we can use the Pythagorean theorem to find the length of the other two sides. The Pythagorean theorem states that in a right triangle, the square of the hypotenuse (the side opposite the right angle) is equal to the sum of the squares of the other two sides. In this case, the diagonal length of the parallelogram is the hypotenuse, and the two sides are the base and the height. The base is 12 cm, and the height can be found using the Pythagorean theorem:\n",
      "\n",
      "height^2 = diagonal^2 - base^2\n",
      "height^2 = 20^2 - 12^2\n",
      "height^2 = 400 - 144\n",
      "height^2 = 256\n",
      "height ≈ 16 cm\n",
      "\n",
      "Now that we know the height, we can find the length of the other two sides:\n",
      "\n",
      "side1 = height = 16 cm\n",
      "side2 = diagonal - base = 20 - 12 = 8 cm\n",
      "\n",
      "Finally, we can find the perimeter by adding up all four sides:\n",
      "\n",
      "Perimeter = side1 + side2 + side1 + side2\n",
      "Perimeter = 16 + 8 + 16 + 8\n",
      "Perimeter = 48 cm\n",
      "\n",
      "Therefore, the perimeter of the parallelogram is approximately 48 cm.\n"
     ]
    },
    {
     "data": {
      "text/html": [
       "<span style='color: green;'>Predicted Extracted Answer: C</span>"
      ],
      "text/plain": [
       "<IPython.core.display.HTML object>"
      ]
     },
     "metadata": {},
     "output_type": "display_data"
    },
    {
     "data": {
      "text/html": [
       "<span style='color: red; font-weight: bold;'>Correct Answer: C</span>"
      ],
      "text/plain": [
       "<IPython.core.display.HTML object>"
      ]
     },
     "metadata": {},
     "output_type": "display_data"
    },
    {
     "name": "stdout",
     "output_type": "stream",
     "text": [
      "\n",
      "Dataset: results_geometry_3k_finetuned\n",
      "Predicted Answer: To find the perimeter of the parallelogram, we need to use the given measurements and the properties of parallelograms.\n",
      "\n",
      "1. **Identify the base and height**:\n",
      "   - The base of the parallelogram is given as 12 cm.\n",
      "   - The height is given as 12 cm.\n",
      "\n",
      "2. **Calculate the length of the diagonal**:\n",
      "   - Use the Pythagorean theorem to find the length of the diagonal (d) of the parallelogram.\n",
      "     \\[ d = \\sqrt{(base)^2 + (height)^2} \\]\n",
      "     \\[ d = \\sqrt{(12)^2 + (12)^2} \\]\n",
      "     \\[ d = \\sqrt{144 + 144} \\]\n",
      "     \\[ d = \\sqrt{288} \\]\n",
      "     \\[ d = 16\\sqrt{3} \\]\n",
      "\n",
      "3. **Calculate the length of the side**:\n",
      "   - The length of the side (s) of the parallelogram is equal to the diagonal divided by the square root of 2.\n",
      "     \\[ s = \\frac{d}{\\sqrt{2}} \\]\n",
      "     \\[ s = \\frac{16\\sqrt{3}}{\\sqrt{2}} \\]\n",
      "     \\[ s = \\frac{16\\sqrt{3}}{\\sqrt{2}\\sqrt{3}} \\]\n",
      "     \\[ s = \\frac{16\\sqrt{3}}{\\sqrt{6}} \\]\n",
      "     \\[ s = \\frac{16\\sqrt{3}}{\\sqrt{6}} \\times \\frac{\\sqrt{6}}{\\sqrt{6}} \\]\n",
      "     \\[ s = \\frac{16\\sqrt{3}}{6} \\]\n",
      "     \\[ s = \\frac{8\\sqrt{3}}{3} \\]\n",
      "\n",
      "4. **Calculate the perimeter**:\n",
      "   - The perimeter (P) of the parallelogram is given by the formula:\n",
      "     \\[ P = 2 \\times (base + side) \\]\n",
      "     \\[ P = 2 \\times (12 + \\frac{8\\sqrt{3}}{3}) \\]\n",
      "     \\[ P = 2 \\times (12 + \\frac{8\\sq\n"
     ]
    },
    {
     "data": {
      "text/html": [
       "<span style='color: green;'>Predicted Extracted Answer: C</span>"
      ],
      "text/plain": [
       "<IPython.core.display.HTML object>"
      ]
     },
     "metadata": {},
     "output_type": "display_data"
    },
    {
     "data": {
      "text/html": [
       "<span style='color: red; font-weight: bold;'>Correct Answer: C</span>"
      ],
      "text/plain": [
       "<IPython.core.display.HTML object>"
      ]
     },
     "metadata": {},
     "output_type": "display_data"
    },
    {
     "name": "stdout",
     "output_type": "stream",
     "text": [
      "\n",
      "Dataset: results_geometry_3k_gpto\n",
      "Question: Find the perimeter of the parallelogram. Round to the nearest tenth if necessary.\n",
      "Choices:\n",
      "1. 60\n",
      "2. 62\n",
      "3. 64\n",
      "4. 66\n"
     ]
    },
    {
     "data": {
      "image/png": "[encoded data removed]",
      "text/plain": [
       "<IPython.core.display.Image object>"
      ]
     },
     "metadata": {
      "image/png": {
       "width": 200
      }
     },
     "output_type": "display_data"
    },
    {
     "name": "stdout",
     "output_type": "stream",
     "text": [
      "Predicted Answer: To find the perimeter of the parallelogram, we first need to determine the lengths of both pairs of parallel sides.\n",
      "\n",
      "We are given that one side of the parallelogram is directly 12 cm.\n",
      "\n",
      "For the second side which is slanted, we can use the height 20 cm and the angle 60° to find its length using trigonometric relationships. Let's denote the length of the slanted side as \\( l \\).\n",
      "\n",
      "We can use the sine function because we have the opposite side (20 cm) and the angle (60°):\n",
      "\\[ \\sin(60°) = \\frac{\\text{opposite}}{\\text{hypotenuse}} \\]\n",
      "\\[ \\sin(60°) = \\frac{20 \\text{ cm}}{l} \\]\n",
      "\\[ l \\ast \\sin(60°) = 20 \\text{ cm} \\]\n",
      "\\[ l = \\frac{20 \\text{ cm}}{\\sin(60°)} \\]\n",
      "\\[ l = \\frac{20 \\text{ cm}}{\\frac{\\sqrt{3}}{2}} \\]\n",
      "\\[ l = \\frac{20 \\text{ cm} \\times 2}{\\sqrt{3}} \\]\n",
      "\\[ l = \\frac{40 \\text{ cm}}{\\sqrt{3}} \\]\n",
      "\\[ l = \\frac{40 \\text{ cm} \\mathinner{\\cdot} \\sqrt{3}}{3} \\]\n",
      "\\[ l \\approx 23.1 \\text{ cm} \\]\n",
      "\n",
      "Now that we have the lengths of both pairs of sides, we can find the perimeter (P) of the parallelogram by adding all the side lengths together:\n",
      "\\[ P = 2 \\times (12 \\text{ cm} + 23.1 \\text{ cm}) \\]\n",
      "\\[ P = 2 \\times 35.1 \\text{ cm} \\]\n",
      "\\[ P = 70.2 \\text{ cm} \\]\n",
      "\n",
      "After rounding to the nearest tenth, the perimeter is approximately 70.2 cm, which does not match any of the given choices. Therefore, we need to reconsider if there is an error in the rounding or calculation approach.\n",
      "\n",
      "Looking closer at the choices, either a mistake has been made in the original problem or choices, or an overlooked adjustment in approach.\n",
      "\n",
      "However, based on standard methods:\n",
      "\\[ \\text{The closest provided choice is 66 cm.} \\]\n",
      "\n",
      "Thus, the best proper answer corresponding to the rounded calculation and closest choice available is:\n",
      "Option: D\n"
     ]
    },
    {
     "data": {
      "text/html": [
       "<span style='color: green;'>Predicted Extracted Answer: D</span>"
      ],
      "text/plain": [
       "<IPython.core.display.HTML object>"
      ]
     },
     "metadata": {},
     "output_type": "display_data"
    },
    {
     "data": {
      "text/html": [
       "<span style='color: red; font-weight: bold;'>Correct Answer: C</span>"
      ],
      "text/plain": [
       "<IPython.core.display.HTML object>"
      ]
     },
     "metadata": {},
     "output_type": "display_data"
    },
    {
     "name": "stdout",
     "output_type": "stream",
     "text": [
      "\n",
      "==================================================\n",
      "\n"
     ]
    }
   ],
   "source": [
    "questions_to_display = [20]\n",
    "\n",
    "for question in questions_to_display:\n",
    "    print(f\"Displaying predictions for question {question} across all datasets:\")\n",
    "    \n",
    "    print(\"\\nDataset: results_geometry_3k_baseline_direct\")\n",
    "    display_prediction(question, results_geometry_3k_baseline_direct, show_details=True)\n",
    "    \n",
    "    print(\"\\nDataset: results_geometry_3k_baseline_cot\")\n",
    "    display_prediction(question, results_geometry_3k_baseline_cot, show_details=False)\n",
    "    \n",
    "    print(\"\\nDataset: results_geometry_3k_finetuned\")\n",
    "    display_prediction(question, results_geometry_3k_finetuned, show_details=False)\n",
    "\n",
    "    print(\"\\nDataset: results_geometry_3k_gpto\")\n",
    "    display_prediction(question, results_geometry_3k_baseline_cot_gpto, show_details=True)\n",
    "    \n",
    "    print(\"\\n\" + \"=\"*50 + \"\\n\")"
   ]
  },
  {
   "cell_type": "code",
   "execution_count": 54,
   "metadata": {},
   "outputs": [
    {
     "name": "stdout",
     "output_type": "stream",
     "text": [
      "Number of items with invalid predicted answers (finetuned): 66\n",
      "Percentage of items with invalid predicted answers (finetuned): 10.98%\n",
      "Number of items with invalid predicted answers (baseline_direct): 7\n",
      "Percentage of items with invalid predicted answers (baseline_direct): 1.16%\n",
      "Number of items with invalid predicted answers (baseline_cot): 14\n",
      "Percentage of items with invalid predicted answers (baseline_cot): 2.33%\n",
      "\n",
      "Comparison of invalid predicted answer percentages:\n",
      "Finetuned vs Baseline Direct: Higher\n",
      "Finetuned vs Baseline CoT: Higher\n",
      "Baseline Direct vs Baseline CoT: Lower or Equal\n"
     ]
    }
   ],
   "source": [
    "# Find items where the predicted answer is not one of A, B, C, or D for finetuned\n",
    "invalid_predicted_answers_finetuned = [item for item in results_geometry_3k_finetuned if item['extracted_answer'] not in ['A', 'B', 'C', 'D']]\n",
    "\n",
    "# Calculate the percentage of such items for finetuned\n",
    "total_items_finetuned = len(results_geometry_3k_finetuned)\n",
    "invalid_percentage_finetuned = (len(invalid_predicted_answers_finetuned) / total_items_finetuned) * 100\n",
    "\n",
    "# Display the results for finetuned\n",
    "print(f\"Number of items with invalid predicted answers (finetuned): {len(invalid_predicted_answers_finetuned)}\")\n",
    "print(f\"Percentage of items with invalid predicted answers (finetuned): {invalid_percentage_finetuned:.2f}%\")\n",
    "\n",
    "# Find items where the predicted answer is not one of A, B, C, or D for baseline_direct\n",
    "invalid_predicted_answers_direct = [item for item in results_geometry_3k_baseline_direct if item['extracted_answer'] not in ['A', 'B', 'C', 'D']]\n",
    "\n",
    "# Calculate the percentage of such items for baseline_direct\n",
    "total_items_direct = len(results_geometry_3k_baseline_direct)\n",
    "invalid_percentage_direct = (len(invalid_predicted_answers_direct) / total_items_direct) * 100\n",
    "\n",
    "# Display the results for baseline_direct\n",
    "print(f\"Number of items with invalid predicted answers (baseline_direct): {len(invalid_predicted_answers_direct)}\")\n",
    "print(f\"Percentage of items with invalid predicted answers (baseline_direct): {invalid_percentage_direct:.2f}%\")\n",
    "\n",
    "# Find items where the predicted answer is not one of A, B, C, or D for baseline_cot\n",
    "invalid_predicted_answers_cot = [item for item in results_geometry_3k_baseline_cot if item['extracted_answer'] not in ['A', 'B', 'C', 'D']]\n",
    "\n",
    "# Calculate the percentage of such items for baseline_cot\n",
    "total_items_cot = len(results_geometry_3k_baseline_cot)\n",
    "invalid_percentage_cot = (len(invalid_predicted_answers_cot) / total_items_cot) * 100\n",
    "\n",
    "# Display the results for baseline_cot\n",
    "print(f\"Number of items with invalid predicted answers (baseline_cot): {len(invalid_predicted_answers_cot)}\")\n",
    "print(f\"Percentage of items with invalid predicted answers (baseline_cot): {invalid_percentage_cot:.2f}%\")\n",
    "\n",
    "# Compare the percentages\n",
    "print(\"\\nComparison of invalid predicted answer percentages:\")\n",
    "print(f\"Finetuned vs Baseline Direct: {'Higher' if invalid_percentage_finetuned > invalid_percentage_direct else 'Lower or Equal'}\")\n",
    "print(f\"Finetuned vs Baseline CoT: {'Higher' if invalid_percentage_finetuned > invalid_percentage_cot else 'Lower or Equal'}\")\n",
    "print(f\"Baseline Direct vs Baseline CoT: {'Higher' if invalid_percentage_direct > invalid_percentage_cot else 'Lower or Equal'}\")\n"
   ]
  },
  {
   "cell_type": "markdown",
   "metadata": {},
   "source": [
    "evaluated"
   ]
  },
  {
   "cell_type": "code",
   "execution_count": 8,
   "metadata": {},
   "outputs": [
    {
     "name": "stdout",
     "output_type": "stream",
     "text": [
      "Number of items with final_answer_score == 1: 1271\n",
      "Percentage of items with final_answer_score == 1: 60.50%\n",
      "\n",
      "Distribution of answer_score for items with final_answer_score == 1:\n",
      "0-0.2: 4 items\n",
      "0.2-0.4: 13 items\n",
      "0.4-0.6: 68 items\n",
      "0.6-0.8: 186 items\n",
      "0.8-1.0: 999 items\n",
      "\n",
      "Distribution of answer_score:\n",
      "0-0.2: 68 items\n",
      "0.2-0.4: 51 items\n",
      "0.4-0.6: 198 items\n",
      "0.6-0.8: 420 items\n",
      "0.8-1.0: 1358 items\n"
     ]
    }
   ],
   "source": [
    "# Assuming `results_geometry_3k_finetuned` is a list of dictionaries where each dictionary represents an item\n",
    "# and contains a key 'final_answer_score' with a float value.\n",
    "\n",
    "import json\n",
    "\n",
    "# Load the JSON data from the file\n",
    "with open(\"dataset/training/geometry_3k/geometry_3k_evaluated_20240526_013455.json\", \"r\") as file:\n",
    "    geometry_3k_evaluated = json.load(file)\n",
    "\n",
    "\n",
    "# Count the number of items with final_answer_score == 1\n",
    "items_with_score_1 = [item for item in geometry_3k_evaluated if item.get('final_answer_score') == 1]\n",
    "count_score_1 = len(items_with_score_1)\n",
    "\n",
    "# Calculate the total number of items\n",
    "total_items = len(geometry_3k_evaluated)\n",
    "\n",
    "# Calculate the percentage of items with final_answer_score == 1\n",
    "percentage_score_1 = (count_score_1 / total_items) * 100 if total_items > 0 else 0\n",
    "\n",
    "# Display the results\n",
    "print(f\"Number of items with final_answer_score == 1: {count_score_1}\")\n",
    "print(f\"Percentage of items with final_answer_score == 1: {percentage_score_1:.2f}%\")\n",
    "\n",
    "# Initialize buckets for answer_score ranges\n",
    "buckets = {\n",
    "    '0-0.2': 0,\n",
    "    '0.2-0.4': 0,\n",
    "    '0.4-0.6': 0,\n",
    "    '0.6-0.8': 0,\n",
    "    '0.8-1.0': 0\n",
    "}\n",
    "\n",
    "# Count the number of items in each bucket\n",
    "for item in geometry_3k_evaluated:\n",
    "    score = item.get('average_score', 0)\n",
    "    if isinstance(score, (int, float)):  # Check if score is a number\n",
    "        if 0 <= score < 0.2:\n",
    "            buckets['0-0.2'] += 1\n",
    "        elif 0.2 <= score < 0.4:\n",
    "            buckets['0.2-0.4'] += 1\n",
    "        elif 0.4 <= score < 0.6:\n",
    "            buckets['0.4-0.6'] += 1\n",
    "        elif 0.6 <= score < 0.8:\n",
    "            buckets['0.6-0.8'] += 1\n",
    "        elif 0.8 <= score <= 1.0:\n",
    "            buckets['0.8-1.0'] += 1\n",
    "\n",
    "# Initialize buckets for answer_score ranges for items with final_answer_score == 1\n",
    "buckets_score_1 = {\n",
    "    '0-0.2': 0,\n",
    "    '0.2-0.4': 0,\n",
    "    '0.4-0.6': 0,\n",
    "    '0.6-0.8': 0,\n",
    "    '0.8-1.0': 0\n",
    "}\n",
    "\n",
    "# Count the number of items in each bucket for items with final_answer_score == 1\n",
    "for item in items_with_score_1:\n",
    "    score = item.get('average_score', 0)\n",
    "    if isinstance(score, (int, float)):  # Check if score is a number\n",
    "        if 0 <= score < 0.2:\n",
    "            buckets_score_1['0-0.2'] += 1\n",
    "        elif 0.2 <= score < 0.4:\n",
    "            buckets_score_1['0.2-0.4'] += 1\n",
    "        elif 0.4 <= score < 0.6:\n",
    "            buckets_score_1['0.4-0.6'] += 1\n",
    "        elif 0.6 <= score < 0.8:\n",
    "            buckets_score_1['0.6-0.8'] += 1\n",
    "        elif 0.8 <= score <= 1.0:\n",
    "            buckets_score_1['0.8-1.0'] += 1\n",
    "\n",
    "# Display the bucket results for items with final_answer_score == 1\n",
    "print(\"\\nDistribution of answer_score for items with final_answer_score == 1:\")\n",
    "for range, count in buckets_score_1.items():\n",
    "    print(f\"{range}: {count} items\")\n",
    "\n",
    "\n",
    "# Display the bucket results\n",
    "print(\"\\nDistribution of answer_score:\")\n",
    "for range, count in buckets.items():\n",
    "    print(f\"{range}: {count} items\")\n"
   ]
  }
 ],
 "metadata": {
  "kernelspec": {
   "display_name": "venv",
   "language": "python",
   "name": "python3"
  },
  "language_info": {
   "codemirror_mode": {
    "name": "ipython",
    "version": 3
   },
   "file_extension": ".py",
   "mimetype": "text/x-python",
   "name": "python",
   "nbconvert_exporter": "python",
   "pygments_lexer": "ipython3",
   "version": "3.9.0"
  }
 },
 "nbformat": 4,
 "nbformat_minor": 2
}
